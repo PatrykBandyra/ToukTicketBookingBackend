{
 "cells": [
  {
   "cell_type": "code",
   "execution_count": 19,
   "metadata": {
    "collapsed": true,
    "pycharm": {
     "name": "#%%\n"
    }
   },
   "outputs": [],
   "source": [
    "import requests\n",
    "import json"
   ]
  },
  {
   "cell_type": "markdown",
   "source": [
    "# Getting movie screenings"
   ],
   "metadata": {
    "collapsed": false,
    "pycharm": {
     "name": "#%% md\n"
    }
   }
  },
  {
   "cell_type": "markdown",
   "source": [
    "### Good response"
   ],
   "metadata": {
    "collapsed": false,
    "pycharm": {
     "name": "#%% md\n"
    }
   }
  },
  {
   "cell_type": "code",
   "execution_count": 20,
   "outputs": [
    {
     "name": "stdout",
     "output_type": "stream",
     "text": [
      "{\n",
      "  \"Cool Movie 1\": {\n",
      "    \"info\": {\n",
      "      \"actors\": \"\",\n",
      "      \"description\": \"The coolest movie this year\"\n",
      "    },\n",
      "    \"screenings\": [\n",
      "      {\n",
      "        \"id\": 17,\n",
      "        \"startTime\": \"17:30\"\n",
      "      },\n",
      "      {\n",
      "        \"id\": 18,\n",
      "        \"startTime\": \"21:30\"\n",
      "      }\n",
      "    ]\n",
      "  },\n",
      "  \"My fight\": {\n",
      "    \"info\": {\n",
      "      \"actors\": \"Janina Nowakowska, Hanna Nowak\",\n",
      "      \"description\": \"The title has no reference\"\n",
      "    },\n",
      "    \"screenings\": [\n",
      "      {\n",
      "        \"id\": 6,\n",
      "        \"startTime\": \"20:30\"\n",
      "      }\n",
      "    ]\n",
      "  },\n",
      "  \"Why bother writing json\": {\n",
      "    \"info\": {\n",
      "      \"actors\": \"\",\n",
      "      \"description\": \"Exactly, why?\"\n",
      "    },\n",
      "    \"screenings\": [\n",
      "      {\n",
      "        \"id\": 5,\n",
      "        \"startTime\": \"15:30\"\n",
      "      },\n",
      "      {\n",
      "        \"id\": 12,\n",
      "        \"startTime\": \"19:30\"\n",
      "      }\n",
      "    ]\n",
      "  }\n",
      "}\n"
     ]
    }
   ],
   "source": [
    "r = requests.get('http://localhost:9000/api/reservation/movie-screenings', params={'date': '2022-05-06-14-30'})\n",
    "print(json.dumps(r.json(), indent=2))"
   ],
   "metadata": {
    "collapsed": false,
    "pycharm": {
     "name": "#%%\n"
    }
   }
  },
  {
   "cell_type": "markdown",
   "source": [
    "### Bad response"
   ],
   "metadata": {
    "collapsed": false,
    "pycharm": {
     "name": "#%% md\n"
    }
   }
  },
  {
   "cell_type": "markdown",
   "source": [
    "Wrong DateTime format"
   ],
   "metadata": {
    "collapsed": false,
    "pycharm": {
     "name": "#%% md\n"
    }
   }
  },
  {
   "cell_type": "code",
   "execution_count": 21,
   "outputs": [
    {
     "name": "stdout",
     "output_type": "stream",
     "text": [
      "{\n",
      "  \"message\": \"Wrong datetime format\"\n",
      "}\n"
     ]
    }
   ],
   "source": [
    "r = requests.get('http://localhost:9000/api/reservation/movie-screenings', params={'date': '2022:05:06-14-30'})\n",
    "print(json.dumps(r.json(), indent=2))"
   ],
   "metadata": {
    "collapsed": false,
    "pycharm": {
     "name": "#%%\n"
    }
   }
  },
  {
   "cell_type": "markdown",
   "source": [
    "Date from the past (more than 15 minutes)"
   ],
   "metadata": {
    "collapsed": false,
    "pycharm": {
     "name": "#%% md\n"
    }
   }
  },
  {
   "cell_type": "code",
   "execution_count": 22,
   "outputs": [
    {
     "name": "stdout",
     "output_type": "stream",
     "text": [
      "{\n",
      "  \"message\": \"Specified date does not have any screenings planned\"\n",
      "}\n"
     ]
    }
   ],
   "source": [
    "r = requests.get('http://localhost:9000/api/reservation/movie-screenings', params={'date': '2021-05-06-14-30'})\n",
    "print(json.dumps(r.json(), indent=2))"
   ],
   "metadata": {
    "collapsed": false,
    "pycharm": {
     "name": "#%%\n"
    }
   }
  },
  {
   "cell_type": "markdown",
   "source": [
    "Date from the future (more than 1 year)"
   ],
   "metadata": {
    "collapsed": false,
    "pycharm": {
     "name": "#%% md\n"
    }
   }
  },
  {
   "cell_type": "code",
   "execution_count": 23,
   "outputs": [
    {
     "name": "stdout",
     "output_type": "stream",
     "text": [
      "{\n",
      "  \"message\": \"Specified date does not have any screenings planned\"\n",
      "}\n"
     ]
    }
   ],
   "source": [
    "r = requests.get('http://localhost:9000/api/reservation/movie-screenings', params={'date': '2024-05-06-14-30'})\n",
    "print(json.dumps(r.json(), indent=2))"
   ],
   "metadata": {
    "collapsed": false,
    "pycharm": {
     "name": "#%%\n"
    }
   }
  },
  {
   "cell_type": "markdown",
   "source": [
    "No params provided"
   ],
   "metadata": {
    "collapsed": false,
    "pycharm": {
     "name": "#%% md\n"
    }
   }
  },
  {
   "cell_type": "code",
   "execution_count": 24,
   "outputs": [
    {
     "name": "stdout",
     "output_type": "stream",
     "text": [
      "{\n",
      "  \"timestamp\": \"2022-04-24T22:16:43.874+00:00\",\n",
      "  \"status\": 400,\n",
      "  \"error\": \"Bad Request\",\n",
      "  \"path\": \"/api/reservation/movie-screenings\"\n",
      "}\n"
     ]
    }
   ],
   "source": [
    "r = requests.get('http://localhost:9000/api/reservation/movie-screenings')\n",
    "print(json.dumps(r.json(), indent=2))"
   ],
   "metadata": {
    "collapsed": false,
    "pycharm": {
     "name": "#%%\n"
    }
   }
  },
  {
   "cell_type": "markdown",
   "source": [
    "# Get available seats for specific movie screening"
   ],
   "metadata": {
    "collapsed": false,
    "pycharm": {
     "name": "#%% md\n"
    }
   }
  },
  {
   "cell_type": "markdown",
   "source": [
    "### Good response"
   ],
   "metadata": {
    "collapsed": false,
    "pycharm": {
     "name": "#%% md\n"
    }
   }
  },
  {
   "cell_type": "code",
   "execution_count": 25,
   "outputs": [
    {
     "name": "stdout",
     "output_type": "stream",
     "text": [
      "{\n",
      "  \"room\": {\n",
      "    \"id\": 1,\n",
      "    \"name\": \"Room 1\",\n",
      "    \"seatsNumber\": 200\n",
      "  },\n",
      "  \"seatsAvailable\": [\n",
      "    {\n",
      "      \"id\": 1,\n",
      "      \"row\": 0,\n",
      "      \"number\": 0\n",
      "    },\n",
      "    {\n",
      "      \"id\": 2,\n",
      "      \"row\": 1,\n",
      "      \"number\": 0\n",
      "    },\n",
      "    {\n",
      "      \"id\": 3,\n",
      "      \"row\": 2,\n",
      "      \"number\": 0\n",
      "    },\n",
      "    {\n",
      "      \"id\": 4,\n",
      "      \"row\": 3,\n",
      "      \"number\": 0\n",
      "    },\n",
      "    {\n",
      "      \"id\": 5,\n",
      "      \"row\": 4,\n",
      "      \"number\": 0\n",
      "    },\n",
      "    {\n",
      "      \"id\": 6,\n",
      "      \"row\": 5,\n",
      "      \"number\": 0\n",
      "    },\n",
      "    {\n",
      "      \"id\": 7,\n",
      "      \"row\": 6,\n",
      "      \"number\": 0\n",
      "    },\n",
      "    {\n",
      "      \"id\": 8,\n",
      "      \"row\": 7,\n",
      "      \"number\": 0\n",
      "    },\n",
      "    {\n",
      "      \"id\": 9,\n",
      "      \"row\": 8,\n",
      "      \"number\": 0\n",
      "    },\n",
      "    {\n",
      "      \"id\": 10,\n",
      "      \"row\": 9,\n",
      "      \"number\": 0\n",
      "    },\n",
      "    {\n",
      "      \"id\": 11,\n",
      "      \"row\": 0,\n",
      "      \"number\": 1\n",
      "    },\n",
      "    {\n",
      "      \"id\": 12,\n",
      "      \"row\": 1,\n",
      "      \"number\": 1\n",
      "    },\n",
      "    {\n",
      "      \"id\": 13,\n",
      "      \"row\": 2,\n",
      "      \"number\": 1\n",
      "    },\n",
      "    {\n",
      "      \"id\": 14,\n",
      "      \"row\": 3,\n",
      "      \"number\": 1\n",
      "    },\n",
      "    {\n",
      "      \"id\": 15,\n",
      "      \"row\": 4,\n",
      "      \"number\": 1\n",
      "    },\n",
      "    {\n",
      "      \"id\": 16,\n",
      "      \"row\": 5,\n",
      "      \"number\": 1\n",
      "    },\n",
      "    {\n",
      "      \"id\": 17,\n",
      "      \"row\": 6,\n",
      "      \"number\": 1\n",
      "    },\n",
      "    {\n",
      "      \"id\": 18,\n",
      "      \"row\": 7,\n",
      "      \"number\": 1\n",
      "    },\n",
      "    {\n",
      "      \"id\": 19,\n",
      "      \"row\": 8,\n",
      "      \"number\": 1\n",
      "    },\n",
      "    {\n",
      "      \"id\": 20,\n",
      "      \"row\": 9,\n",
      "      \"number\": 1\n",
      "    },\n",
      "    {\n",
      "      \"id\": 21,\n",
      "      \"row\": 0,\n",
      "      \"number\": 2\n",
      "    },\n",
      "    {\n",
      "      \"id\": 22,\n",
      "      \"row\": 1,\n",
      "      \"number\": 2\n",
      "    },\n",
      "    {\n",
      "      \"id\": 23,\n",
      "      \"row\": 2,\n",
      "      \"number\": 2\n",
      "    },\n",
      "    {\n",
      "      \"id\": 24,\n",
      "      \"row\": 3,\n",
      "      \"number\": 2\n",
      "    },\n",
      "    {\n",
      "      \"id\": 25,\n",
      "      \"row\": 4,\n",
      "      \"number\": 2\n",
      "    },\n",
      "    {\n",
      "      \"id\": 26,\n",
      "      \"row\": 5,\n",
      "      \"number\": 2\n",
      "    },\n",
      "    {\n",
      "      \"id\": 27,\n",
      "      \"row\": 6,\n",
      "      \"number\": 2\n",
      "    },\n",
      "    {\n",
      "      \"id\": 28,\n",
      "      \"row\": 7,\n",
      "      \"number\": 2\n",
      "    },\n",
      "    {\n",
      "      \"id\": 29,\n",
      "      \"row\": 8,\n",
      "      \"number\": 2\n",
      "    },\n",
      "    {\n",
      "      \"id\": 30,\n",
      "      \"row\": 9,\n",
      "      \"number\": 2\n",
      "    },\n",
      "    {\n",
      "      \"id\": 31,\n",
      "      \"row\": 0,\n",
      "      \"number\": 3\n",
      "    },\n",
      "    {\n",
      "      \"id\": 32,\n",
      "      \"row\": 1,\n",
      "      \"number\": 3\n",
      "    },\n",
      "    {\n",
      "      \"id\": 33,\n",
      "      \"row\": 2,\n",
      "      \"number\": 3\n",
      "    },\n",
      "    {\n",
      "      \"id\": 34,\n",
      "      \"row\": 3,\n",
      "      \"number\": 3\n",
      "    },\n",
      "    {\n",
      "      \"id\": 36,\n",
      "      \"row\": 5,\n",
      "      \"number\": 3\n",
      "    },\n",
      "    {\n",
      "      \"id\": 37,\n",
      "      \"row\": 6,\n",
      "      \"number\": 3\n",
      "    },\n",
      "    {\n",
      "      \"id\": 38,\n",
      "      \"row\": 7,\n",
      "      \"number\": 3\n",
      "    },\n",
      "    {\n",
      "      \"id\": 39,\n",
      "      \"row\": 8,\n",
      "      \"number\": 3\n",
      "    },\n",
      "    {\n",
      "      \"id\": 40,\n",
      "      \"row\": 9,\n",
      "      \"number\": 3\n",
      "    },\n",
      "    {\n",
      "      \"id\": 41,\n",
      "      \"row\": 0,\n",
      "      \"number\": 4\n",
      "    },\n",
      "    {\n",
      "      \"id\": 42,\n",
      "      \"row\": 1,\n",
      "      \"number\": 4\n",
      "    },\n",
      "    {\n",
      "      \"id\": 43,\n",
      "      \"row\": 2,\n",
      "      \"number\": 4\n",
      "    },\n",
      "    {\n",
      "      \"id\": 44,\n",
      "      \"row\": 3,\n",
      "      \"number\": 4\n",
      "    },\n",
      "    {\n",
      "      \"id\": 46,\n",
      "      \"row\": 5,\n",
      "      \"number\": 4\n",
      "    },\n",
      "    {\n",
      "      \"id\": 47,\n",
      "      \"row\": 6,\n",
      "      \"number\": 4\n",
      "    },\n",
      "    {\n",
      "      \"id\": 48,\n",
      "      \"row\": 7,\n",
      "      \"number\": 4\n",
      "    },\n",
      "    {\n",
      "      \"id\": 49,\n",
      "      \"row\": 8,\n",
      "      \"number\": 4\n",
      "    },\n",
      "    {\n",
      "      \"id\": 50,\n",
      "      \"row\": 9,\n",
      "      \"number\": 4\n",
      "    },\n",
      "    {\n",
      "      \"id\": 51,\n",
      "      \"row\": 0,\n",
      "      \"number\": 5\n",
      "    },\n",
      "    {\n",
      "      \"id\": 52,\n",
      "      \"row\": 1,\n",
      "      \"number\": 5\n",
      "    },\n",
      "    {\n",
      "      \"id\": 53,\n",
      "      \"row\": 2,\n",
      "      \"number\": 5\n",
      "    },\n",
      "    {\n",
      "      \"id\": 54,\n",
      "      \"row\": 3,\n",
      "      \"number\": 5\n",
      "    },\n",
      "    {\n",
      "      \"id\": 55,\n",
      "      \"row\": 4,\n",
      "      \"number\": 5\n",
      "    },\n",
      "    {\n",
      "      \"id\": 57,\n",
      "      \"row\": 6,\n",
      "      \"number\": 5\n",
      "    },\n",
      "    {\n",
      "      \"id\": 58,\n",
      "      \"row\": 7,\n",
      "      \"number\": 5\n",
      "    },\n",
      "    {\n",
      "      \"id\": 59,\n",
      "      \"row\": 8,\n",
      "      \"number\": 5\n",
      "    },\n",
      "    {\n",
      "      \"id\": 60,\n",
      "      \"row\": 9,\n",
      "      \"number\": 5\n",
      "    },\n",
      "    {\n",
      "      \"id\": 61,\n",
      "      \"row\": 0,\n",
      "      \"number\": 6\n",
      "    },\n",
      "    {\n",
      "      \"id\": 62,\n",
      "      \"row\": 1,\n",
      "      \"number\": 6\n",
      "    },\n",
      "    {\n",
      "      \"id\": 63,\n",
      "      \"row\": 2,\n",
      "      \"number\": 6\n",
      "    },\n",
      "    {\n",
      "      \"id\": 64,\n",
      "      \"row\": 3,\n",
      "      \"number\": 6\n",
      "    },\n",
      "    {\n",
      "      \"id\": 65,\n",
      "      \"row\": 4,\n",
      "      \"number\": 6\n",
      "    },\n",
      "    {\n",
      "      \"id\": 66,\n",
      "      \"row\": 5,\n",
      "      \"number\": 6\n",
      "    },\n",
      "    {\n",
      "      \"id\": 68,\n",
      "      \"row\": 7,\n",
      "      \"number\": 6\n",
      "    },\n",
      "    {\n",
      "      \"id\": 69,\n",
      "      \"row\": 8,\n",
      "      \"number\": 6\n",
      "    },\n",
      "    {\n",
      "      \"id\": 70,\n",
      "      \"row\": 9,\n",
      "      \"number\": 6\n",
      "    },\n",
      "    {\n",
      "      \"id\": 71,\n",
      "      \"row\": 0,\n",
      "      \"number\": 7\n",
      "    },\n",
      "    {\n",
      "      \"id\": 72,\n",
      "      \"row\": 1,\n",
      "      \"number\": 7\n",
      "    },\n",
      "    {\n",
      "      \"id\": 73,\n",
      "      \"row\": 2,\n",
      "      \"number\": 7\n",
      "    },\n",
      "    {\n",
      "      \"id\": 74,\n",
      "      \"row\": 3,\n",
      "      \"number\": 7\n",
      "    },\n",
      "    {\n",
      "      \"id\": 75,\n",
      "      \"row\": 4,\n",
      "      \"number\": 7\n",
      "    },\n",
      "    {\n",
      "      \"id\": 76,\n",
      "      \"row\": 5,\n",
      "      \"number\": 7\n",
      "    },\n",
      "    {\n",
      "      \"id\": 77,\n",
      "      \"row\": 6,\n",
      "      \"number\": 7\n",
      "    },\n",
      "    {\n",
      "      \"id\": 78,\n",
      "      \"row\": 7,\n",
      "      \"number\": 7\n",
      "    },\n",
      "    {\n",
      "      \"id\": 79,\n",
      "      \"row\": 8,\n",
      "      \"number\": 7\n",
      "    },\n",
      "    {\n",
      "      \"id\": 80,\n",
      "      \"row\": 9,\n",
      "      \"number\": 7\n",
      "    },\n",
      "    {\n",
      "      \"id\": 81,\n",
      "      \"row\": 0,\n",
      "      \"number\": 8\n",
      "    },\n",
      "    {\n",
      "      \"id\": 82,\n",
      "      \"row\": 1,\n",
      "      \"number\": 8\n",
      "    },\n",
      "    {\n",
      "      \"id\": 83,\n",
      "      \"row\": 2,\n",
      "      \"number\": 8\n",
      "    },\n",
      "    {\n",
      "      \"id\": 84,\n",
      "      \"row\": 3,\n",
      "      \"number\": 8\n",
      "    },\n",
      "    {\n",
      "      \"id\": 85,\n",
      "      \"row\": 4,\n",
      "      \"number\": 8\n",
      "    },\n",
      "    {\n",
      "      \"id\": 86,\n",
      "      \"row\": 5,\n",
      "      \"number\": 8\n",
      "    },\n",
      "    {\n",
      "      \"id\": 87,\n",
      "      \"row\": 6,\n",
      "      \"number\": 8\n",
      "    },\n",
      "    {\n",
      "      \"id\": 88,\n",
      "      \"row\": 7,\n",
      "      \"number\": 8\n",
      "    },\n",
      "    {\n",
      "      \"id\": 89,\n",
      "      \"row\": 8,\n",
      "      \"number\": 8\n",
      "    },\n",
      "    {\n",
      "      \"id\": 90,\n",
      "      \"row\": 9,\n",
      "      \"number\": 8\n",
      "    },\n",
      "    {\n",
      "      \"id\": 91,\n",
      "      \"row\": 0,\n",
      "      \"number\": 9\n",
      "    },\n",
      "    {\n",
      "      \"id\": 92,\n",
      "      \"row\": 1,\n",
      "      \"number\": 9\n",
      "    },\n",
      "    {\n",
      "      \"id\": 93,\n",
      "      \"row\": 2,\n",
      "      \"number\": 9\n",
      "    },\n",
      "    {\n",
      "      \"id\": 94,\n",
      "      \"row\": 3,\n",
      "      \"number\": 9\n",
      "    },\n",
      "    {\n",
      "      \"id\": 95,\n",
      "      \"row\": 4,\n",
      "      \"number\": 9\n",
      "    },\n",
      "    {\n",
      "      \"id\": 96,\n",
      "      \"row\": 5,\n",
      "      \"number\": 9\n",
      "    },\n",
      "    {\n",
      "      \"id\": 97,\n",
      "      \"row\": 6,\n",
      "      \"number\": 9\n",
      "    },\n",
      "    {\n",
      "      \"id\": 98,\n",
      "      \"row\": 7,\n",
      "      \"number\": 9\n",
      "    },\n",
      "    {\n",
      "      \"id\": 99,\n",
      "      \"row\": 8,\n",
      "      \"number\": 9\n",
      "    },\n",
      "    {\n",
      "      \"id\": 100,\n",
      "      \"row\": 9,\n",
      "      \"number\": 9\n",
      "    },\n",
      "    {\n",
      "      \"id\": 101,\n",
      "      \"row\": 0,\n",
      "      \"number\": 10\n",
      "    },\n",
      "    {\n",
      "      \"id\": 102,\n",
      "      \"row\": 1,\n",
      "      \"number\": 10\n",
      "    },\n",
      "    {\n",
      "      \"id\": 103,\n",
      "      \"row\": 2,\n",
      "      \"number\": 10\n",
      "    },\n",
      "    {\n",
      "      \"id\": 104,\n",
      "      \"row\": 3,\n",
      "      \"number\": 10\n",
      "    },\n",
      "    {\n",
      "      \"id\": 105,\n",
      "      \"row\": 4,\n",
      "      \"number\": 10\n",
      "    },\n",
      "    {\n",
      "      \"id\": 106,\n",
      "      \"row\": 5,\n",
      "      \"number\": 10\n",
      "    },\n",
      "    {\n",
      "      \"id\": 107,\n",
      "      \"row\": 6,\n",
      "      \"number\": 10\n",
      "    },\n",
      "    {\n",
      "      \"id\": 108,\n",
      "      \"row\": 7,\n",
      "      \"number\": 10\n",
      "    },\n",
      "    {\n",
      "      \"id\": 109,\n",
      "      \"row\": 8,\n",
      "      \"number\": 10\n",
      "    },\n",
      "    {\n",
      "      \"id\": 110,\n",
      "      \"row\": 9,\n",
      "      \"number\": 10\n",
      "    },\n",
      "    {\n",
      "      \"id\": 111,\n",
      "      \"row\": 0,\n",
      "      \"number\": 11\n",
      "    },\n",
      "    {\n",
      "      \"id\": 112,\n",
      "      \"row\": 1,\n",
      "      \"number\": 11\n",
      "    },\n",
      "    {\n",
      "      \"id\": 113,\n",
      "      \"row\": 2,\n",
      "      \"number\": 11\n",
      "    },\n",
      "    {\n",
      "      \"id\": 114,\n",
      "      \"row\": 3,\n",
      "      \"number\": 11\n",
      "    },\n",
      "    {\n",
      "      \"id\": 115,\n",
      "      \"row\": 4,\n",
      "      \"number\": 11\n",
      "    },\n",
      "    {\n",
      "      \"id\": 116,\n",
      "      \"row\": 5,\n",
      "      \"number\": 11\n",
      "    },\n",
      "    {\n",
      "      \"id\": 117,\n",
      "      \"row\": 6,\n",
      "      \"number\": 11\n",
      "    },\n",
      "    {\n",
      "      \"id\": 118,\n",
      "      \"row\": 7,\n",
      "      \"number\": 11\n",
      "    },\n",
      "    {\n",
      "      \"id\": 119,\n",
      "      \"row\": 8,\n",
      "      \"number\": 11\n",
      "    },\n",
      "    {\n",
      "      \"id\": 120,\n",
      "      \"row\": 9,\n",
      "      \"number\": 11\n",
      "    },\n",
      "    {\n",
      "      \"id\": 121,\n",
      "      \"row\": 0,\n",
      "      \"number\": 12\n",
      "    },\n",
      "    {\n",
      "      \"id\": 122,\n",
      "      \"row\": 1,\n",
      "      \"number\": 12\n",
      "    },\n",
      "    {\n",
      "      \"id\": 123,\n",
      "      \"row\": 2,\n",
      "      \"number\": 12\n",
      "    },\n",
      "    {\n",
      "      \"id\": 124,\n",
      "      \"row\": 3,\n",
      "      \"number\": 12\n",
      "    },\n",
      "    {\n",
      "      \"id\": 125,\n",
      "      \"row\": 4,\n",
      "      \"number\": 12\n",
      "    },\n",
      "    {\n",
      "      \"id\": 126,\n",
      "      \"row\": 5,\n",
      "      \"number\": 12\n",
      "    },\n",
      "    {\n",
      "      \"id\": 127,\n",
      "      \"row\": 6,\n",
      "      \"number\": 12\n",
      "    },\n",
      "    {\n",
      "      \"id\": 128,\n",
      "      \"row\": 7,\n",
      "      \"number\": 12\n",
      "    },\n",
      "    {\n",
      "      \"id\": 129,\n",
      "      \"row\": 8,\n",
      "      \"number\": 12\n",
      "    },\n",
      "    {\n",
      "      \"id\": 130,\n",
      "      \"row\": 9,\n",
      "      \"number\": 12\n",
      "    },\n",
      "    {\n",
      "      \"id\": 131,\n",
      "      \"row\": 0,\n",
      "      \"number\": 13\n",
      "    },\n",
      "    {\n",
      "      \"id\": 132,\n",
      "      \"row\": 1,\n",
      "      \"number\": 13\n",
      "    },\n",
      "    {\n",
      "      \"id\": 133,\n",
      "      \"row\": 2,\n",
      "      \"number\": 13\n",
      "    },\n",
      "    {\n",
      "      \"id\": 134,\n",
      "      \"row\": 3,\n",
      "      \"number\": 13\n",
      "    },\n",
      "    {\n",
      "      \"id\": 135,\n",
      "      \"row\": 4,\n",
      "      \"number\": 13\n",
      "    },\n",
      "    {\n",
      "      \"id\": 136,\n",
      "      \"row\": 5,\n",
      "      \"number\": 13\n",
      "    },\n",
      "    {\n",
      "      \"id\": 137,\n",
      "      \"row\": 6,\n",
      "      \"number\": 13\n",
      "    },\n",
      "    {\n",
      "      \"id\": 138,\n",
      "      \"row\": 7,\n",
      "      \"number\": 13\n",
      "    },\n",
      "    {\n",
      "      \"id\": 139,\n",
      "      \"row\": 8,\n",
      "      \"number\": 13\n",
      "    },\n",
      "    {\n",
      "      \"id\": 140,\n",
      "      \"row\": 9,\n",
      "      \"number\": 13\n",
      "    },\n",
      "    {\n",
      "      \"id\": 141,\n",
      "      \"row\": 0,\n",
      "      \"number\": 14\n",
      "    },\n",
      "    {\n",
      "      \"id\": 142,\n",
      "      \"row\": 1,\n",
      "      \"number\": 14\n",
      "    },\n",
      "    {\n",
      "      \"id\": 143,\n",
      "      \"row\": 2,\n",
      "      \"number\": 14\n",
      "    },\n",
      "    {\n",
      "      \"id\": 144,\n",
      "      \"row\": 3,\n",
      "      \"number\": 14\n",
      "    },\n",
      "    {\n",
      "      \"id\": 145,\n",
      "      \"row\": 4,\n",
      "      \"number\": 14\n",
      "    },\n",
      "    {\n",
      "      \"id\": 146,\n",
      "      \"row\": 5,\n",
      "      \"number\": 14\n",
      "    },\n",
      "    {\n",
      "      \"id\": 147,\n",
      "      \"row\": 6,\n",
      "      \"number\": 14\n",
      "    },\n",
      "    {\n",
      "      \"id\": 148,\n",
      "      \"row\": 7,\n",
      "      \"number\": 14\n",
      "    },\n",
      "    {\n",
      "      \"id\": 149,\n",
      "      \"row\": 8,\n",
      "      \"number\": 14\n",
      "    },\n",
      "    {\n",
      "      \"id\": 150,\n",
      "      \"row\": 9,\n",
      "      \"number\": 14\n",
      "    },\n",
      "    {\n",
      "      \"id\": 151,\n",
      "      \"row\": 0,\n",
      "      \"number\": 15\n",
      "    },\n",
      "    {\n",
      "      \"id\": 152,\n",
      "      \"row\": 1,\n",
      "      \"number\": 15\n",
      "    },\n",
      "    {\n",
      "      \"id\": 153,\n",
      "      \"row\": 2,\n",
      "      \"number\": 15\n",
      "    },\n",
      "    {\n",
      "      \"id\": 154,\n",
      "      \"row\": 3,\n",
      "      \"number\": 15\n",
      "    },\n",
      "    {\n",
      "      \"id\": 155,\n",
      "      \"row\": 4,\n",
      "      \"number\": 15\n",
      "    },\n",
      "    {\n",
      "      \"id\": 156,\n",
      "      \"row\": 5,\n",
      "      \"number\": 15\n",
      "    },\n",
      "    {\n",
      "      \"id\": 157,\n",
      "      \"row\": 6,\n",
      "      \"number\": 15\n",
      "    },\n",
      "    {\n",
      "      \"id\": 158,\n",
      "      \"row\": 7,\n",
      "      \"number\": 15\n",
      "    },\n",
      "    {\n",
      "      \"id\": 159,\n",
      "      \"row\": 8,\n",
      "      \"number\": 15\n",
      "    },\n",
      "    {\n",
      "      \"id\": 160,\n",
      "      \"row\": 9,\n",
      "      \"number\": 15\n",
      "    },\n",
      "    {\n",
      "      \"id\": 161,\n",
      "      \"row\": 0,\n",
      "      \"number\": 16\n",
      "    },\n",
      "    {\n",
      "      \"id\": 162,\n",
      "      \"row\": 1,\n",
      "      \"number\": 16\n",
      "    },\n",
      "    {\n",
      "      \"id\": 163,\n",
      "      \"row\": 2,\n",
      "      \"number\": 16\n",
      "    },\n",
      "    {\n",
      "      \"id\": 164,\n",
      "      \"row\": 3,\n",
      "      \"number\": 16\n",
      "    },\n",
      "    {\n",
      "      \"id\": 165,\n",
      "      \"row\": 4,\n",
      "      \"number\": 16\n",
      "    },\n",
      "    {\n",
      "      \"id\": 166,\n",
      "      \"row\": 5,\n",
      "      \"number\": 16\n",
      "    },\n",
      "    {\n",
      "      \"id\": 167,\n",
      "      \"row\": 6,\n",
      "      \"number\": 16\n",
      "    },\n",
      "    {\n",
      "      \"id\": 168,\n",
      "      \"row\": 7,\n",
      "      \"number\": 16\n",
      "    },\n",
      "    {\n",
      "      \"id\": 169,\n",
      "      \"row\": 8,\n",
      "      \"number\": 16\n",
      "    },\n",
      "    {\n",
      "      \"id\": 170,\n",
      "      \"row\": 9,\n",
      "      \"number\": 16\n",
      "    },\n",
      "    {\n",
      "      \"id\": 171,\n",
      "      \"row\": 0,\n",
      "      \"number\": 17\n",
      "    },\n",
      "    {\n",
      "      \"id\": 172,\n",
      "      \"row\": 1,\n",
      "      \"number\": 17\n",
      "    },\n",
      "    {\n",
      "      \"id\": 173,\n",
      "      \"row\": 2,\n",
      "      \"number\": 17\n",
      "    },\n",
      "    {\n",
      "      \"id\": 174,\n",
      "      \"row\": 3,\n",
      "      \"number\": 17\n",
      "    },\n",
      "    {\n",
      "      \"id\": 175,\n",
      "      \"row\": 4,\n",
      "      \"number\": 17\n",
      "    },\n",
      "    {\n",
      "      \"id\": 176,\n",
      "      \"row\": 5,\n",
      "      \"number\": 17\n",
      "    },\n",
      "    {\n",
      "      \"id\": 177,\n",
      "      \"row\": 6,\n",
      "      \"number\": 17\n",
      "    },\n",
      "    {\n",
      "      \"id\": 178,\n",
      "      \"row\": 7,\n",
      "      \"number\": 17\n",
      "    },\n",
      "    {\n",
      "      \"id\": 179,\n",
      "      \"row\": 8,\n",
      "      \"number\": 17\n",
      "    },\n",
      "    {\n",
      "      \"id\": 180,\n",
      "      \"row\": 9,\n",
      "      \"number\": 17\n",
      "    },\n",
      "    {\n",
      "      \"id\": 181,\n",
      "      \"row\": 0,\n",
      "      \"number\": 18\n",
      "    },\n",
      "    {\n",
      "      \"id\": 182,\n",
      "      \"row\": 1,\n",
      "      \"number\": 18\n",
      "    },\n",
      "    {\n",
      "      \"id\": 183,\n",
      "      \"row\": 2,\n",
      "      \"number\": 18\n",
      "    },\n",
      "    {\n",
      "      \"id\": 184,\n",
      "      \"row\": 3,\n",
      "      \"number\": 18\n",
      "    },\n",
      "    {\n",
      "      \"id\": 185,\n",
      "      \"row\": 4,\n",
      "      \"number\": 18\n",
      "    },\n",
      "    {\n",
      "      \"id\": 186,\n",
      "      \"row\": 5,\n",
      "      \"number\": 18\n",
      "    },\n",
      "    {\n",
      "      \"id\": 187,\n",
      "      \"row\": 6,\n",
      "      \"number\": 18\n",
      "    },\n",
      "    {\n",
      "      \"id\": 188,\n",
      "      \"row\": 7,\n",
      "      \"number\": 18\n",
      "    },\n",
      "    {\n",
      "      \"id\": 189,\n",
      "      \"row\": 8,\n",
      "      \"number\": 18\n",
      "    },\n",
      "    {\n",
      "      \"id\": 190,\n",
      "      \"row\": 9,\n",
      "      \"number\": 18\n",
      "    },\n",
      "    {\n",
      "      \"id\": 191,\n",
      "      \"row\": 0,\n",
      "      \"number\": 19\n",
      "    },\n",
      "    {\n",
      "      \"id\": 192,\n",
      "      \"row\": 1,\n",
      "      \"number\": 19\n",
      "    },\n",
      "    {\n",
      "      \"id\": 193,\n",
      "      \"row\": 2,\n",
      "      \"number\": 19\n",
      "    },\n",
      "    {\n",
      "      \"id\": 194,\n",
      "      \"row\": 3,\n",
      "      \"number\": 19\n",
      "    },\n",
      "    {\n",
      "      \"id\": 195,\n",
      "      \"row\": 4,\n",
      "      \"number\": 19\n",
      "    },\n",
      "    {\n",
      "      \"id\": 196,\n",
      "      \"row\": 5,\n",
      "      \"number\": 19\n",
      "    },\n",
      "    {\n",
      "      \"id\": 197,\n",
      "      \"row\": 6,\n",
      "      \"number\": 19\n",
      "    },\n",
      "    {\n",
      "      \"id\": 198,\n",
      "      \"row\": 7,\n",
      "      \"number\": 19\n",
      "    },\n",
      "    {\n",
      "      \"id\": 199,\n",
      "      \"row\": 8,\n",
      "      \"number\": 19\n",
      "    },\n",
      "    {\n",
      "      \"id\": 200,\n",
      "      \"row\": 9,\n",
      "      \"number\": 19\n",
      "    }\n",
      "  ]\n",
      "}\n"
     ]
    }
   ],
   "source": [
    "r = requests.get('http://localhost:9000/api/reservation/seats', params={'id': 5})\n",
    "print(json.dumps(r.json(), indent=2))"
   ],
   "metadata": {
    "collapsed": false,
    "pycharm": {
     "name": "#%%\n"
    }
   }
  },
  {
   "cell_type": "markdown",
   "source": [
    "### Bad response"
   ],
   "metadata": {
    "collapsed": false,
    "pycharm": {
     "name": "#%% md\n"
    }
   }
  },
  {
   "cell_type": "markdown",
   "source": [
    "Wrong screening id"
   ],
   "metadata": {
    "collapsed": false,
    "pycharm": {
     "name": "#%% md\n"
    }
   }
  },
  {
   "cell_type": "code",
   "execution_count": 26,
   "outputs": [
    {
     "name": "stdout",
     "output_type": "stream",
     "text": [
      "{\n",
      "  \"message\": \"No movie screening with such id\"\n",
      "}\n"
     ]
    }
   ],
   "source": [
    "r = requests.get('http://localhost:9000/api/reservation/seats', params={'id': 5793})\n",
    "print(json.dumps(r.json(), indent=2))"
   ],
   "metadata": {
    "collapsed": false,
    "pycharm": {
     "name": "#%%\n"
    }
   }
  },
  {
   "cell_type": "markdown",
   "source": [
    "No params provided"
   ],
   "metadata": {
    "collapsed": false,
    "pycharm": {
     "name": "#%% md\n"
    }
   }
  },
  {
   "cell_type": "code",
   "execution_count": 27,
   "outputs": [
    {
     "name": "stdout",
     "output_type": "stream",
     "text": [
      "{\n",
      "  \"timestamp\": \"2022-04-24T22:16:54.030+00:00\",\n",
      "  \"status\": 400,\n",
      "  \"error\": \"Bad Request\",\n",
      "  \"path\": \"/api/reservation/seats\"\n",
      "}\n"
     ]
    }
   ],
   "source": [
    "r = requests.get('http://localhost:9000/api/reservation/seats')\n",
    "print(json.dumps(r.json(), indent=2))"
   ],
   "metadata": {
    "collapsed": false,
    "pycharm": {
     "name": "#%%\n"
    }
   }
  },
  {
   "cell_type": "markdown",
   "source": [
    "### Make reservation"
   ],
   "metadata": {
    "collapsed": false,
    "pycharm": {
     "name": "#%% md\n"
    }
   }
  },
  {
   "cell_type": "markdown",
   "source": [
    "### Good response"
   ],
   "metadata": {
    "collapsed": false,
    "pycharm": {
     "name": "#%% md\n"
    }
   }
  },
  {
   "cell_type": "code",
   "execution_count": 28,
   "outputs": [
    {
     "name": "stdout",
     "output_type": "stream",
     "text": [
      "{\n",
      "  \"reservationCost\": 25,\n",
      "  \"reservationExpirationDateTime\": \"06/05/2022 15:15\"\n",
      "}\n"
     ]
    }
   ],
   "source": [
    "data = {\n",
    "    'name': 'Jarosław',\n",
    "    'surname': 'Dąbrowski-Nowak',\n",
    "    'screeningId': 5,\n",
    "    'seatsIds': [9],\n",
    "    'tickets': {\n",
    "        'Adult': 1\n",
    "    }\n",
    "}\n",
    "\n",
    "r = requests.post('http://localhost:9000/api/reservation/reserve-seats', json=data)\n",
    "print(json.dumps(r.json(), indent=2))"
   ],
   "metadata": {
    "collapsed": false,
    "pycharm": {
     "name": "#%%\n"
    }
   }
  },
  {
   "cell_type": "markdown",
   "source": [
    "### Bad response"
   ],
   "metadata": {
    "collapsed": false,
    "pycharm": {
     "name": "#%% md\n"
    }
   }
  },
  {
   "cell_type": "markdown",
   "source": [
    "Name too short"
   ],
   "metadata": {
    "collapsed": false,
    "pycharm": {
     "name": "#%% md\n"
    }
   }
  },
  {
   "cell_type": "code",
   "execution_count": 29,
   "outputs": [
    {
     "name": "stdout",
     "output_type": "stream",
     "text": [
      "{\n",
      "  \"message\": \"Name is too short\"\n",
      "}\n"
     ]
    }
   ],
   "source": [
    "data = {\n",
    "    'name': 'Jo',\n",
    "    'surname': 'Smith',\n",
    "    'screeningId': 5,\n",
    "    'seatsIds': [1, 2],\n",
    "    'tickets': {\n",
    "        'Adult': 2\n",
    "    }\n",
    "}\n",
    "\n",
    "r = requests.post('http://localhost:9000/api/reservation/reserve-seats', json=data)\n",
    "print(json.dumps(r.json(), indent=2))"
   ],
   "metadata": {
    "collapsed": false,
    "pycharm": {
     "name": "#%%\n"
    }
   }
  },
  {
   "cell_type": "markdown",
   "source": [
    "Invalid name"
   ],
   "metadata": {
    "collapsed": false,
    "pycharm": {
     "name": "#%% md\n"
    }
   }
  },
  {
   "cell_type": "code",
   "execution_count": 30,
   "outputs": [
    {
     "name": "stdout",
     "output_type": "stream",
     "text": [
      "{\n",
      "  \"message\": \"Name is invalid\"\n",
      "}\n"
     ]
    }
   ],
   "source": [
    "data = {\n",
    "    'name': 'John2',\n",
    "    'surname': 'Smith',\n",
    "    'screeningId': 5,\n",
    "    'seatsIds': [1, 2],\n",
    "    'tickets': {\n",
    "        'Adult': 2\n",
    "    }\n",
    "}\n",
    "\n",
    "r = requests.post('http://localhost:9000/api/reservation/reserve-seats', json=data)\n",
    "print(json.dumps(r.json(), indent=2))"
   ],
   "metadata": {
    "collapsed": false,
    "pycharm": {
     "name": "#%%\n"
    }
   }
  },
  {
   "cell_type": "markdown",
   "source": [
    "Surname too short"
   ],
   "metadata": {
    "collapsed": false,
    "pycharm": {
     "name": "#%% md\n"
    }
   }
  },
  {
   "cell_type": "code",
   "execution_count": 31,
   "outputs": [
    {
     "name": "stdout",
     "output_type": "stream",
     "text": [
      "{\n",
      "  \"message\": \"Surname is too short\"\n",
      "}\n"
     ]
    }
   ],
   "source": [
    "data = {\n",
    "    'name': 'John',\n",
    "    'surname': 'Sm',\n",
    "    'screeningId': 5,\n",
    "    'seatsIds': [1, 2],\n",
    "    'tickets': {\n",
    "        'Adult': 2\n",
    "    }\n",
    "}\n",
    "\n",
    "r = requests.post('http://localhost:9000/api/reservation/reserve-seats', json=data)\n",
    "print(json.dumps(r.json(), indent=2))"
   ],
   "metadata": {
    "collapsed": false,
    "pycharm": {
     "name": "#%%\n"
    }
   }
  },
  {
   "cell_type": "markdown",
   "source": [
    "Invalid surname"
   ],
   "metadata": {
    "collapsed": false,
    "pycharm": {
     "name": "#%% md\n"
    }
   }
  },
  {
   "cell_type": "code",
   "execution_count": 32,
   "outputs": [
    {
     "name": "stdout",
     "output_type": "stream",
     "text": [
      "{\n",
      "  \"message\": \"Surname is invalid\"\n",
      "}\n"
     ]
    }
   ],
   "source": [
    "data = {\n",
    "    'name': 'John',\n",
    "    'surname': 'Smfas3',\n",
    "    'screeningId': 5,\n",
    "    'seatsIds': [1, 2],\n",
    "    'tickets': {\n",
    "        'Adult': 2\n",
    "    }\n",
    "}\n",
    "\n",
    "r = requests.post('http://localhost:9000/api/reservation/reserve-seats', json=data)\n",
    "print(json.dumps(r.json(), indent=2))"
   ],
   "metadata": {
    "collapsed": false,
    "pycharm": {
     "name": "#%%\n"
    }
   }
  },
  {
   "cell_type": "markdown",
   "source": [
    "Invalid screening id"
   ],
   "metadata": {
    "collapsed": false,
    "pycharm": {
     "name": "#%% md\n"
    }
   }
  },
  {
   "cell_type": "code",
   "execution_count": 33,
   "outputs": [
    {
     "name": "stdout",
     "output_type": "stream",
     "text": [
      "{\n",
      "  \"message\": \"Invalid screening id\"\n",
      "}\n"
     ]
    }
   ],
   "source": [
    "data = {\n",
    "    'name': 'John',\n",
    "    'surname': 'Smith',\n",
    "    'screeningId': 534234,\n",
    "    'seatsIds': [1, 2],\n",
    "    'tickets': {\n",
    "        'Adult': 2\n",
    "    }\n",
    "}\n",
    "\n",
    "r = requests.post('http://localhost:9000/api/reservation/reserve-seats', json=data)\n",
    "print(json.dumps(r.json(), indent=2))"
   ],
   "metadata": {
    "collapsed": false,
    "pycharm": {
     "name": "#%%\n"
    }
   }
  },
  {
   "cell_type": "markdown",
   "source": [
    "Number of seats does not match number of tickets"
   ],
   "metadata": {
    "collapsed": false,
    "pycharm": {
     "name": "#%% md\n"
    }
   }
  },
  {
   "cell_type": "code",
   "execution_count": 34,
   "outputs": [
    {
     "name": "stdout",
     "output_type": "stream",
     "text": [
      "{\n",
      "  \"message\": \"Number of seats to be reserved is different from number of tickets to be reserved\"\n",
      "}\n"
     ]
    }
   ],
   "source": [
    "data = {\n",
    "    'name': 'John',\n",
    "    'surname': 'Smith',\n",
    "    'screeningId': 5,\n",
    "    'seatsIds': [1, 2, 3],\n",
    "    'tickets': {\n",
    "        'Adult': 2\n",
    "    }\n",
    "}\n",
    "\n",
    "r = requests.post('http://localhost:9000/api/reservation/reserve-seats', json=data)\n",
    "print(json.dumps(r.json(), indent=2))"
   ],
   "metadata": {
    "collapsed": false,
    "pycharm": {
     "name": "#%%\n"
    }
   }
  },
  {
   "cell_type": "code",
   "execution_count": 35,
   "outputs": [
    {
     "name": "stdout",
     "output_type": "stream",
     "text": [
      "{\n",
      "  \"message\": \"Number of seats to be reserved is different from number of tickets to be reserved\"\n",
      "}\n"
     ]
    }
   ],
   "source": [
    "data = {\n",
    "    'name': 'John',\n",
    "    'surname': 'Smith',\n",
    "    'screeningId': 5,\n",
    "    'seatsIds': [1, 2],\n",
    "    'tickets': {\n",
    "        'Adult': 4\n",
    "    }\n",
    "}\n",
    "\n",
    "r = requests.post('http://localhost:9000/api/reservation/reserve-seats', json=data)\n",
    "print(json.dumps(r.json(), indent=2))"
   ],
   "metadata": {
    "collapsed": false,
    "pycharm": {
     "name": "#%%\n"
    }
   }
  },
  {
   "cell_type": "markdown",
   "source": [
    "Number of seats does not match number of tickets - invalid seat id"
   ],
   "metadata": {
    "collapsed": false,
    "pycharm": {
     "name": "#%% md\n"
    }
   }
  },
  {
   "cell_type": "code",
   "execution_count": 36,
   "outputs": [
    {
     "name": "stdout",
     "output_type": "stream",
     "text": [
      "{\n",
      "  \"message\": \"Number of seats to be reserved is different from number of tickets to be reserved\"\n",
      "}\n"
     ]
    }
   ],
   "source": [
    "data = {\n",
    "    'name': 'John',\n",
    "    'surname': 'Smith',\n",
    "    'screeningId': 5,\n",
    "    'seatsIds': [1, 2342523],\n",
    "    'tickets': {\n",
    "        'Adult': 2\n",
    "    }\n",
    "}\n",
    "\n",
    "r = requests.post('http://localhost:9000/api/reservation/reserve-seats', json=data)\n",
    "print(json.dumps(r.json(), indent=2))"
   ],
   "metadata": {
    "collapsed": false,
    "pycharm": {
     "name": "#%%\n"
    }
   }
  },
  {
   "cell_type": "markdown",
   "source": [
    "Number of seats does not match number of tickets - seat from wrong room (room does not match screening)"
   ],
   "metadata": {
    "collapsed": false,
    "pycharm": {
     "name": "#%% md\n"
    }
   }
  },
  {
   "cell_type": "code",
   "execution_count": 37,
   "outputs": [
    {
     "name": "stdout",
     "output_type": "stream",
     "text": [
      "{\n",
      "  \"message\": \"Number of seats to be reserved is different from number of tickets to be reserved\"\n",
      "}\n"
     ]
    }
   ],
   "source": [
    "data = {\n",
    "    'name': 'Jarosław',\n",
    "    'surname': 'Dąbrowski-Nowak',\n",
    "    'screeningId': 5,\n",
    "    'seatsIds': [232],  # This seat is from other room\n",
    "    'tickets': {\n",
    "        'Adult': 1\n",
    "    }\n",
    "}\n",
    "\n",
    "r = requests.post('http://localhost:9000/api/reservation/reserve-seats', json=data)\n",
    "print(json.dumps(r.json(), indent=2))"
   ],
   "metadata": {
    "collapsed": false,
    "pycharm": {
     "name": "#%%\n"
    }
   }
  },
  {
   "cell_type": "markdown",
   "source": [
    "Single place left over in a row between two already reserved seats\n",
    "First reservation is successful, second is not\n",
    "\n",
    "X0NX0000...\n",
    "0 - not reserved\n",
    "X - already reserved\n",
    "N - cannot reserve only this one - breaks rule"
   ],
   "metadata": {
    "collapsed": false,
    "pycharm": {
     "name": "#%% md\n"
    }
   }
  },
  {
   "cell_type": "code",
   "execution_count": 38,
   "outputs": [
    {
     "name": "stdout",
     "output_type": "stream",
     "text": [
      "{\n",
      "  \"reservationCost\": 50,\n",
      "  \"reservationExpirationDateTime\": \"06/05/2022 15:15\"\n",
      "}\n",
      "{\n",
      "  \"message\": \"Cannot leave single seats unoccupied between two already reserved seats\"\n",
      "}\n"
     ]
    }
   ],
   "source": [
    "data1 = {\n",
    "    'name': 'Jarosław',\n",
    "    'surname': 'Dąbrowski-Nowak',\n",
    "    'screeningId': 5,\n",
    "    'seatsIds': [1, 31],\n",
    "    'tickets': {\n",
    "        'Adult': 2\n",
    "    }\n",
    "}\n",
    "\n",
    "data2 = {\n",
    "    'name': 'Jack',\n",
    "    'surname': 'Smith',\n",
    "    'screeningId': 5,\n",
    "    'seatsIds': [21],\n",
    "    'tickets': {\n",
    "        'Adult': 1\n",
    "    }\n",
    "}\n",
    "\n",
    "r1 = requests.post('http://localhost:9000/api/reservation/reserve-seats', json=data1)\n",
    "r2 = requests.post('http://localhost:9000/api/reservation/reserve-seats', json=data2)\n",
    "print(json.dumps(r1.json(), indent=2))\n",
    "print(json.dumps(r2.json(), indent=2))"
   ],
   "metadata": {
    "collapsed": false,
    "pycharm": {
     "name": "#%%\n"
    }
   }
  }
 ],
 "metadata": {
  "kernelspec": {
   "display_name": "Python 3",
   "language": "python",
   "name": "python3"
  },
  "language_info": {
   "codemirror_mode": {
    "name": "ipython",
    "version": 2
   },
   "file_extension": ".py",
   "mimetype": "text/x-python",
   "name": "python",
   "nbconvert_exporter": "python",
   "pygments_lexer": "ipython2",
   "version": "2.7.6"
  }
 },
 "nbformat": 4,
 "nbformat_minor": 0
}